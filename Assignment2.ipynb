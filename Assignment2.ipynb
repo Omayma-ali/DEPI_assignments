{
 "cells": [
  {
   "cell_type": "markdown",
   "metadata": {
    "vscode": {
     "languageId": "plaintext"
    }
   },
   "source": [
    "\n",
    "### **Q1.  Text Analyzer**\n",
    "\n",
    "* **Objective:**  Create a program that analyzes text for various characteristics. \n",
    "* **Requirements:**\n",
    "    * Ask the user to input a paragraph of text.\n",
    "    * Use loops to:\n",
    "        * Count the number of words in the text.\n",
    "        * Count the number of sentences in the text.\n",
    "        * Calculate the average word length.\n",
    "        * Find the most frequently used word in the text.\n",
    "        * (Optional) Identify the five most common words. \n",
    "* **Hint:** You'll need to use string manipulation techniques (like splitting the text into words and sentences) along with loop logic to track counts and comparisons.\n",
    "\n",
    ">**You can test the code using thi paragraph:** \"Python is a high-level, interpreted programming language. It's dynamically typed, meaning you don't have to explicitly declare the type of a variable. It's widely used for web development, data analysis, machine learning, and automation. Python is known for its readability and ease of use.\"\n"
   ]
  },
  {
   "cell_type": "code",
   "execution_count": 1,
   "metadata": {
    "scrolled": true
   },
   "outputs": [
    {
     "name": "stdout",
     "output_type": "stream",
     "text": [
      "Enter your text here:\"Python is a high-level, interpreted programming language. It's dynamically typed, meaning you don't have to explicitly declare the type of a variable. It's widely used for web development, data analysis, machine learning, and automation. Python is known for its readability and ease of use.\n",
      "--- Text Analysis ---\n",
      "Word Count: 44\n",
      "Sentence Count 9\n",
      "Average Word Length:5.64\n",
      "Most Frequent Word: ['is', 'a', \"It's\", 'of', 'for', 'and']\n"
     ]
    }
   ],
   "source": [
    "# enter the text\n",
    "text = input(\"Enter your text here:\")\n",
    "\n",
    "# split the words to count\n",
    "words = []\n",
    "words = text.split(\" \")\n",
    "\n",
    "# sentences stop symbols\n",
    "stops = ['.', ',' , '?', '!']\n",
    "sentences = 0\n",
    "#count stop symbols to count sentences\n",
    "for char in text:\n",
    "    if char in stops:\n",
    "        sentences += 1\n",
    "\n",
    "# take the average of words length\n",
    "length = []\n",
    "for word in words:\n",
    "    length.append(len(word))\n",
    "average = sum(length) / len(length)\n",
    "\n",
    "# find the most frequent words value\n",
    "freq = {}\n",
    "for word in words:\n",
    "    if word in freq:\n",
    "        freq[word] += 1\n",
    "    else:\n",
    "        freq[word] = 1\n",
    "max_freq = max(freq.values())\n",
    "# find the most frequent words\n",
    "most_freq_words = []\n",
    "for key, value in freq.items():\n",
    "    if value == max_freq:\n",
    "        most_freq_words.append(key)\n",
    "      \n",
    "print('--- Text Analysis ---')\n",
    "print(\"Word Count:\", len(words))\n",
    "print(\"Sentence Count\", sentences)\n",
    "print(f\"Average Word Length:{average:.2f}\")\n",
    "print(\"Most Frequent Word:\", most_freq_words)\n"
   ]
  },
  {
   "cell_type": "code",
   "execution_count": null,
   "metadata": {},
   "outputs": [],
   "source": []
  },
  {
   "cell_type": "markdown",
   "metadata": {},
   "source": [
    "You're right!  The instructions for calculating variance and standard deviation are a bit off. Here's the corrected and summarized version, along with the necessary code:\n",
    "\n",
    "**2.  Q2- Basic Statistics Calculator**\n",
    "\n",
    "**Objective:** Create a Python program that calculates basic statistics (mean, median, mode, range, variance, and standard deviation) for a set of numbers entered by the user.\n",
    "\n",
    "**Requirements:**\n",
    "\n",
    "1. **Input Handling:**\n",
    "   - Write a `while` loop that:\n",
    "     - Continuously prompts the user to enter a number.\n",
    "     - Adds each entered number to a list called `numbers`.\n",
    "     - Stops when the user enters the word \"done\" (case-insensitive).\n",
    "\n",
    "2. **Mean Calculation:**\n",
    "   - If the `numbers` list is not empty, calculate the mean of the numbers in the list.\n",
    "   - Print the mean using an f-string.\n",
    "\n",
    "3. **Median Calculation:**\n",
    "   - Sort the `numbers` list in ascending order.\n",
    "   - Calculate the median.\n",
    "   - Print the median using an f-string.\n",
    "\n",
    "4. **Mode Calculation (Simple):**\n",
    "   - Calculate the mode (the most frequently occurring number).\n",
    "   - Print the mode using an f-string.\n",
    "\n",
    "5. **Variance Calculation:**\n",
    "   - Calculate the variance of the numbers in the list.\n",
    "   - Print the variance using an f-string.\n",
    "\n",
    "6. **Standard Deviation Calculation:**\n",
    "   - Calculate the standard deviation of the numbers in the list.\n",
    "   - Print the standard deviation using an f-string.\n",
    "\n",
    "7. **Range Calculation:**\n",
    "   - Calculate the range.\n",
    "   - Print the range using an f-string.\n",
    "\n",
    "8. **IQR Calculation:**\n",
    "   - Calculate the range.\n",
    "   - Print the range using an f-string.\n",
    "\n",
    "9. **Skewness Calculation (Optional):**\n",
    "   - Calculate the range.\n",
    "   - Print the range using an f-string.\n",
    "\n",
    "10. **Error Handling (Optional):**\n",
    "   -  (Optional) Add a `try-except` block to handle invalid input (e.g., non-numeric values). If invalid input is detected, print an error message and prompt the user to enter a valid number."
   ]
  },
  {
   "cell_type": "code",
   "execution_count": 3,
   "metadata": {},
   "outputs": [],
   "source": [
    "from statistics import mean, median, mode, variance, stdev\n",
    "import numpy as np"
   ]
  },
  {
   "cell_type": "code",
   "execution_count": 4,
   "metadata": {},
   "outputs": [
    {
     "name": "stdout",
     "output_type": "stream",
     "text": [
      "Enter a number (or type 'done' to finish): 10\n",
      "Enter a number (or type 'done' to finish): 9\n",
      "Enter a number (or type 'done' to finish): 8\n",
      "Enter a number (or type 'done' to finish): 7\n",
      "Enter a number (or type 'done' to finish): 6\n",
      "Enter a number (or type 'done' to finish): 5\n",
      "Enter a number (or type 'done' to finish): 4\n",
      "Enter a number (or type 'done' to finish): 3\n",
      "Enter a number (or type 'done' to finish): 2\n",
      "Enter a number (or type 'done' to finish): 1\n",
      "Enter a number (or type 'done' to finish): 7\n",
      "Enter a number (or type 'done' to finish): done\n",
      "Mean: 5.64\n",
      "Median: 6.00\n",
      "Mode: 7.00\n",
      "Variance: 8.45\n",
      "Standard Deviation: 2.91\n",
      "Range: 9.00\n",
      "IQR: 4.00\n",
      "Skewness: -0.38\n"
     ]
    }
   ],
   "source": [
    "numbers = []\n",
    "\n",
    "# 1-Input Handling\n",
    "while True:\n",
    "    # user input\n",
    "    user_input = input(\"Enter a number (or type 'done' to finish): \")\n",
    "    # stop when user enter done\n",
    "    if user_input.lower() == \"done\":\n",
    "        break\n",
    "    # 10-user input error handling\n",
    "    try:\n",
    "        number = float(user_input)\n",
    "        numbers.append(number)\n",
    "    except ValueError:\n",
    "        print(\"Invalid input. Please enter a numeric value.\")\n",
    "\n",
    "if numbers:\n",
    "    # 2-Mean Calculation\n",
    "    calculated_mean = mean(numbers)\n",
    "    print(f\"Mean: {calculated_mean:.2f}\")\n",
    "\n",
    "    # 3-Median Calculation\n",
    "    sorted_numbers = sorted(numbers)\n",
    "    calculated_median = median(sorted_numbers)\n",
    "    print(f\"Median: {calculated_median:.2f}\")\n",
    "\n",
    "    # 4-Mode Calculation\n",
    "    calculated_mode = mode(numbers)\n",
    "    print(f\"Mode: {calculated_mode:.2f}\")\n",
    "\n",
    "    # 5-Variance Calculation\n",
    "    calculated_variance = variance(numbers)\n",
    "    print(f\"Variance: {calculated_variance:.2f}\")\n",
    "\n",
    "    # 6-Standard Deviation Calculation\n",
    "    calculated_stdev = stdev(numbers)\n",
    "    print(f\"Standard Deviation: {calculated_stdev:.2f}\")\n",
    "\n",
    "    # 7-Range Calculation (max - min)\n",
    "    calculated_range = max(numbers) - min(numbers)\n",
    "    print(f\"Range: {calculated_range:.2f}\")\n",
    "\n",
    "    # 8-IQR Calculation\n",
    "    q3 = np.percentile(numbers, 75)\n",
    "    q1 = np.percentile(numbers, 25)\n",
    "    iqr = q3 - q1\n",
    "    print(f\"IQR: {iqr:.2f}\")\n",
    "    \n",
    "    # 9-Skewness Calculation (3 * (mean - median)/ std)\n",
    "    skewness = (3 * (calculated_mean - calculated_median)) / calculated_stdev\n",
    "    print(f\"Skewness: {skewness:.2f}\")"
   ]
  },
  {
   "cell_type": "code",
   "execution_count": null,
   "metadata": {},
   "outputs": [],
   "source": []
  }
 ],
 "metadata": {
  "kernelspec": {
   "display_name": "Python 3 (ipykernel)",
   "language": "python",
   "name": "python3"
  },
  "language_info": {
   "codemirror_mode": {
    "name": "ipython",
    "version": 3
   },
   "file_extension": ".py",
   "mimetype": "text/x-python",
   "name": "python",
   "nbconvert_exporter": "python",
   "pygments_lexer": "ipython3",
   "version": "3.10.9"
  }
 },
 "nbformat": 4,
 "nbformat_minor": 2
}
