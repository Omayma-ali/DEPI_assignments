{
 "cells": [
  {
   "cell_type": "markdown",
   "metadata": {},
   "source": [
    "# Assignment 3: Higher-Order Functions\n",
    "---\n",
    "Welcome to Assignment3, where we delve deeper into the power of higher-order functions in Python, focusing on their applications in data science and machine learning.\n",
    "\n",
    "In this assignment, you'll explore how these functions can be used to transform data, identify outliers, engineer features, and ultimately prepare your datasets for building robust machine learning models.\n",
    "\n",
    "#### General Instructions \n",
    "\n",
    "For all questions, please adhere to the following guidelines:\n",
    "\n",
    "- **Code Clarity:** Your code should be well-formatted, easy to understand, and include meaningful variable names.\n",
    "- **Docstrings:**  Use docstrings to document your functions and explain their purpose, arguments, and return values.\n",
    "- **Testing:**  Use the same given data example of your code to demonstrate its functionality."
   ]
  },
  {
   "cell_type": "markdown",
   "metadata": {},
   "source": [
    "---\n",
    "## Q1. Scaling Features with `map()`\n",
    "\n",
    "**Task:**\n",
    "\n",
    "Create a function to scale a list of features to a range between 0 and 1. \n",
    "\n",
    "**Requirements:**\n",
    "\n",
    "- **Function:**  Define a function or use an anonymous function (lambda).\n",
    "- **Scaling Formula:** The function should scale each feature value using the formula:\n",
    "  ```python\n",
    "  (feature - min_val) / (max_val - min_val)\n",
    "  ```\n",
    "  where `min_val` and `max_val` are the minimum and maximum values in the input list.\n",
    "- **`map()` Function:** Utilize the `map()` function to apply the scaling function to every element in the list.\n",
    "\n",
    "**Output:** \n",
    "\n",
    "Return a new list containing the scaled feature values."
   ]
  },
  {
   "cell_type": "code",
   "execution_count": 20,
   "metadata": {},
   "outputs": [
    {
     "name": "stdout",
     "output_type": "stream",
     "text": [
      "[0.12962962962962962, 0.25925925925925924, 0.5, 0.0, 0.7777777777777778, 0.6851851851851852, 0.5555555555555556, 1.0]\n"
     ]
    }
   ],
   "source": [
    "# TODO: Define a function that scales a feature between 0 and 1\n",
    "'''\n",
    "This function used to scale features\n",
    "Args:\n",
    "    x : number\n",
    "    min_val : number\n",
    "    max_val : number\n",
    "'''\n",
    "scaler = lambda x, min_val, max_val: (x - min_val) / (max_val - min_val)\n",
    "\n",
    "# Simulated feature data (age feature)\n",
    "age_feature = [25, 32, 45, 18, 60, 55, 48, 72]\n",
    "\n",
    "# TODO: Find the minimum and maximum values\n",
    "min_val, max_val = min(age_feature), max(age_feature)\n",
    "\n",
    "# TODO: Scale each feature using your function and map\n",
    "scaled_ages = list(map(lambda x: scaler(x, min_val, max_val), age_feature))\n",
    "\n",
    "# TODO: Print the scaled features to verify the output\n",
    "print(scaled_ages)"
   ]
  },
  {
   "cell_type": "markdown",
   "metadata": {},
   "source": [
    "---\n",
    "## Q2. Filtering Outliers\n",
    "\n",
    "\n",
    "The basic approach is to identify potential outliers based on a defined threshold. A common method is to use the **Interquartile Range (IQR)**. Here's how it works:\n",
    "\n",
    "1. **Calculate the IQR:**\n",
    "   - Find the first quartile (Q1) and the third quartile (Q3) of the list.\n",
    "   - IQR = Q3 - Q1.\n",
    "\n",
    "2. **Define Outlier Boundaries:**\n",
    "   - Lower Boundary: Q1 - 1.5 * IQR\n",
    "   - Upper Boundary: Q3 + 1.5 * IQR\n",
    "\n",
    "3. **Filter the List:**\n",
    "   - Remove any values that fall outside the calculated boundaries."
   ]
  },
  {
   "cell_type": "code",
   "execution_count": 4,
   "metadata": {},
   "outputs": [
    {
     "name": "stdout",
     "output_type": "stream",
     "text": [
      "Q1: 20.0\n",
      "Q2: 21.0\n",
      "Q3: 23.0\n",
      "IQR: 3.0\n"
     ]
    }
   ],
   "source": [
    "# Simulated data for temperatures\n",
    "temperatures = [23, 25, 20, 23, -5, 21, 18, 19, 24, 21,19, 24, 0, \n",
    "                20, 24, 55, 22, 50, 22, 20, 21, 22, 20, 25, 19, \n",
    "                22, 26, 23, 21, 23, 17, 20, 18]\n",
    "\n",
    "# TODO: Define a function to calculate percentiles (Q1, Q2, Q3)\n",
    "import numpy as np\n",
    "'''\n",
    "This function used for calculate the percentiles of a list\n",
    "Args:\n",
    "    data : list\n",
    "    percentile : int\n",
    "Return:\n",
    "    Percentiles : number\n",
    "'''\n",
    "def calculate_percentile(data, percentile):\n",
    "    return np.percentile(data, percentile)\n",
    "\n",
    "# TODO: Calculate Q1 by calling the function with percentile=25\n",
    "q1 = calculate_percentile(temperatures,25)\n",
    "print(\"Q1:\", q1)\n",
    "\n",
    "# TODO: Calculate Q1 by calling the function with percentile=50\n",
    "q2 = calculate_percentile(temperatures,50) \n",
    "print(\"Q2:\", q2)\n",
    "\n",
    "# TODO: Calculate Q1 by calling the function with percentile=75\n",
    "q3 = calculate_percentile(temperatures,75) \n",
    "print(\"Q3:\", q3)\n",
    "\n",
    "# TODO: Calculate IQR by subtracting Q1 from Q3\n",
    "iqr = q3 - q1\n",
    "print(\"IQR:\", iqr)"
   ]
  },
  {
   "cell_type": "markdown",
   "metadata": {},
   "source": [
    "**Define the lower and upper bounds for outliers**"
   ]
  },
  {
   "cell_type": "code",
   "execution_count": 5,
   "metadata": {},
   "outputs": [
    {
     "name": "stdout",
     "output_type": "stream",
     "text": [
      "Lower Bound: 15.5\n",
      "Upper Bound: 27.5\n"
     ]
    }
   ],
   "source": [
    "# TODO: Calculate lower bound using formula: Q1 - 1.5 * IQR\n",
    "lower_bound = q1 - 1.5 * iqr\n",
    "print(\"Lower Bound:\", lower_bound)\n",
    "\n",
    "# TODO: Calculate upper bound using formula: Q3 + 1.5 * IQR\n",
    "upper_bound = q3 + 1.5 * iqr\n",
    "print(\"Upper Bound:\", upper_bound)\n"
   ]
  },
  {
   "cell_type": "markdown",
   "metadata": {},
   "source": [
    "**Filter the outliers**"
   ]
  },
  {
   "cell_type": "code",
   "execution_count": 10,
   "metadata": {},
   "outputs": [],
   "source": [
    "# TODO: Create a list comprehension that only includes values between the bounds\n",
    "\n",
    "filtered_temperatures = [temp for temp in temperatures if lower_bound<=temp<=upper_bound]"
   ]
  },
  {
   "cell_type": "markdown",
   "metadata": {},
   "source": [
    "**Output the results**"
   ]
  },
  {
   "cell_type": "code",
   "execution_count": 11,
   "metadata": {},
   "outputs": [
    {
     "name": "stdout",
     "output_type": "stream",
     "text": [
      "Original Temperatures: [23, 25, 20, 23, -5, 21, 18, 19, 24, 21, 19, 24, 0, 20, 24, 55, 22, 50, 22, 20, 21, 22, 20, 25, 19, 22, 26, 23, 21, 23, 17, 20, 18]\n",
      "Filtered Temperatures: [23, 25, 20, 23, 21, 18, 19, 24, 21, 19, 24, 20, 24, 22, 22, 20, 21, 22, 20, 25, 19, 22, 26, 23, 21, 23, 17, 20, 18]\n"
     ]
    }
   ],
   "source": [
    "print(\"Original Temperatures:\", temperatures)\n",
    "print(\"Filtered Temperatures:\", filtered_temperatures)"
   ]
  },
  {
   "cell_type": "markdown",
   "metadata": {},
   "source": [
    "---\n",
    "## Q3: Outlier Removal Function\n",
    "\n",
    "Take the outlier filtering steps from the previous explanation (Q2) and encapsulate them into a reusable function. This function should be designed to be easily applied to different festures for consistent outlier removal and analysis."
   ]
  },
  {
   "cell_type": "code",
   "execution_count": 12,
   "metadata": {},
   "outputs": [],
   "source": [
    "# Simulated data \n",
    "temperatures = [23, 25, 23, -5, 18, 19, 24, 21, 19, 24, 0, \n",
    "                24, 55, 50, 20, 25, 22, 26, 23, 17, 18]\n",
    "\n",
    "humidity = [60, 65, 72, 68, 75, 80, 82, 78, 62, 68, 71, \n",
    "            69, 77, 81, 79, 64, 69, 67,  74, 68, 75, 100] "
   ]
  },
  {
   "cell_type": "code",
   "execution_count": 13,
   "metadata": {},
   "outputs": [],
   "source": [
    "# TODO: Define a function to retraive only data without outliers. Use the previous percentiles function\n",
    "# Temperatures Lower bound @ Upper bound\n",
    "iqr_temperatures = calculate_percentile(temperatures,75) - calculate_percentile(temperatures,25)\n",
    "lower_bound_temp = calculate_percentile(temperatures,25) - 1.5 * iqr\n",
    "upper_bound_temp = calculate_percentile(temperatures,75) + 1.5 * iqr\n",
    "\n",
    "# humidity Lower bound @ Upper bound\n",
    "iqr_humidity = calculate_percentile(humidity,75) - calculate_percentile(humidity,25)\n",
    "lower_bound_hum = calculate_percentile(humidity,25) - 1.5 * iqr\n",
    "upper_bound_hum = calculate_percentile(humidity,75) + 1.5 * iqr"
   ]
  },
  {
   "cell_type": "code",
   "execution_count": 15,
   "metadata": {},
   "outputs": [],
   "source": [
    "# TODO: Apply the defined function to retraive only data without outliers. \n",
    "\n",
    "filtered_temperatures = [temp for temp in temperatures if lower_bound_temp <= temp <= upper_bound_temp]\n",
    "filtered_humidity = [hum for hum in humidity if lower_bound_hum <= hum <= upper_bound_hum]"
   ]
  },
  {
   "cell_type": "markdown",
   "metadata": {},
   "source": [
    "**Output the results**"
   ]
  },
  {
   "cell_type": "code",
   "execution_count": 16,
   "metadata": {},
   "outputs": [
    {
     "name": "stdout",
     "output_type": "stream",
     "text": [
      "Original Temperatures: [-5, 0, 17, 18, 18, 19, 19, 20, 21, 22, 23, 23, 23, 24, 24, 24, 25, 25, 26, 50, 55]\n",
      "Filtered Temperatures: [23, 25, 23, 18, 19, 24, 21, 19, 24, 24, 20, 25, 22, 26, 23, 17, 18]\n",
      "==============================================================================================================\n",
      "Original Humidity: [60, 62, 64, 65, 67, 68, 68, 68, 69, 69, 71, 72, 74, 75, 75, 77, 78, 79, 80, 81, 82, 100]\n",
      "Filtered Humidity: [65, 72, 68, 75, 80, 82, 78, 68, 71, 69, 77, 81, 79, 64, 69, 67, 74, 68, 75]\n"
     ]
    }
   ],
   "source": [
    "print(\"Original Temperatures:\", sorted(temperatures))\n",
    "print(\"Filtered Temperatures:\", filtered_temperatures)\n",
    "print('='*110)\n",
    "print(\"Original Humidity:\", sorted(humidity))\n",
    "print(\"Filtered Humidity:\", filtered_humidity)"
   ]
  }
 ],
 "metadata": {
  "kernelspec": {
   "display_name": "Python 3 (ipykernel)",
   "language": "python",
   "name": "python3"
  },
  "language_info": {
   "codemirror_mode": {
    "name": "ipython",
    "version": 3
   },
   "file_extension": ".py",
   "mimetype": "text/x-python",
   "name": "python",
   "nbconvert_exporter": "python",
   "pygments_lexer": "ipython3",
   "version": "3.10.9"
  }
 },
 "nbformat": 4,
 "nbformat_minor": 2
}
