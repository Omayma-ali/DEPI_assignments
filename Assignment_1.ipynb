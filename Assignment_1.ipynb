{
  "cells": [
    {
      "metadata": {
        "id": "ep6HU8dlzIGk"
      },
      "cell_type": "markdown",
      "source": [
        "# Assignment 1 - Python Basics Practice\n",
        "\n",
        "In this assignment, you'll get to practice some of the concepts and skills covered in the following notebooks:\n",
        "\n",
        "1. First Steps with Python and Jupyter\n",
        "2. A Quick Tour of Variables and Data Types\n",
        "3. Branching using Conditional Statements\n",
        "\n",
        "As you go through this notebook, you will find a **???** in certain places. To complete this assignment, you must replace all the **???** with appropriate values, expressions or statements to ensure that the notebook runs properly end-to-end.\n",
        "\n"
      ]
    },
    {
      "metadata": {
        "id": "lpjUmc5UzIGu"
      },
      "cell_type": "markdown",
      "source": [
        "## Problem 1 - Variables and Data Types\n",
        "\n",
        "**Q: Assign your name to the variable `name`.**"
      ]
    },
    {
      "metadata": {
        "trusted": true,
        "id": "0hZVvSfUzIGv"
      },
      "cell_type": "code",
      "source": [
        "name = \"Omayma\""
      ],
      "execution_count": 1,
      "outputs": []
    },
    {
      "metadata": {
        "id": "fuTCxPzZzIGw"
      },
      "cell_type": "markdown",
      "source": [
        "**Q: Assign your age (real or fake) to the variable `age`.**"
      ]
    },
    {
      "metadata": {
        "trusted": true,
        "collapsed": true,
        "id": "GHtjR4iBzIGx"
      },
      "cell_type": "code",
      "source": [
        "age = 37"
      ],
      "execution_count": 2,
      "outputs": []
    },
    {
      "metadata": {
        "id": "9DsWh9GWzIGy"
      },
      "cell_type": "markdown",
      "source": [
        "**Q: Assign a boolean value to the variable `has_android_phone`.**"
      ]
    },
    {
      "metadata": {
        "trusted": true,
        "id": "xJ4S2o1fzIGy"
      },
      "cell_type": "code",
      "source": [
        "has_android_phone = True"
      ],
      "execution_count": 3,
      "outputs": []
    },
    {
      "metadata": {
        "id": "PnBl8zZazIGz"
      },
      "cell_type": "markdown",
      "source": [
        "You can check the values of these variables by running the next cell."
      ]
    },
    {
      "metadata": {
        "trusted": true,
        "id": "D4cP0zIVzIGz",
        "colab": {
          "base_uri": "https://localhost:8080/"
        },
        "outputId": "3ccd96bf-9d9e-4e63-db3f-a6a461eb25c2"
      },
      "cell_type": "code",
      "source": [
        "name, age, has_android_phone"
      ],
      "execution_count": 4,
      "outputs": [
        {
          "output_type": "execute_result",
          "data": {
            "text/plain": [
              "('Omayma', 37, True)"
            ]
          },
          "metadata": {},
          "execution_count": 4
        }
      ]
    },
    {
      "metadata": {
        "id": "Km4H2IDAzIG0"
      },
      "cell_type": "markdown",
      "source": [
        "**Q: Create a dictionary `person` with keys `\"Name\"`, `\"Age\"`, `\"HasAndroidPhone\"` and values using the variables defined above.**"
      ]
    },
    {
      "metadata": {
        "trusted": true,
        "id": "zDSfduyczIG0"
      },
      "cell_type": "code",
      "source": [
        "person = {\n",
        "    \"Name\" : name,\n",
        "    \"Age\" : age,\n",
        "    \"HasAndroidPhone\" : has_android_phone\n",
        "}"
      ],
      "execution_count": 11,
      "outputs": []
    },
    {
      "metadata": {
        "id": "4CT3vukozIG1"
      },
      "cell_type": "markdown",
      "source": [
        "Let's use the `person` dictionary to print a nice message."
      ]
    },
    {
      "metadata": {
        "trusted": true,
        "id": "RvFVY4LGzIG1",
        "colab": {
          "base_uri": "https://localhost:8080/"
        },
        "outputId": "906d71b8-1c58-464a-ce5e-e9b57320b927"
      },
      "cell_type": "code",
      "source": [
        "if person['HasAndroidPhone']:\n",
        "  print(f\"Hi {person['Name']},\\nYou are {person['Age']} years old and you have an android phone\")\n",
        "else:\n",
        "  print(f\"Hi {person['Name']},\\nYou are {person['Age']} years old and you don't have an android phone\")"
      ],
      "execution_count": 13,
      "outputs": [
        {
          "output_type": "stream",
          "name": "stdout",
          "text": [
            "Hi Omayma,\n",
            "You are 37 years old and you have an android phone\n"
          ]
        }
      ]
    },
    {
      "metadata": {
        "id": "dRWVEOgZzIG1"
      },
      "cell_type": "markdown",
      "source": [
        "\\**Q (Optional): Use a `for` loop to display the `type` of each value stored against each key in `person`.**\n",
        "\n",
        "Here's the expected output for the key `\"Name\"`:\n",
        "\n",
        "```\n",
        "The key \"Name\" has the value \"Derek\" of the type \"<class 'str'>\"\n",
        "```"
      ]
    },
    {
      "metadata": {
        "trusted": true,
        "id": "AN-zixgFzIG2",
        "colab": {
          "base_uri": "https://localhost:8080/"
        },
        "outputId": "84847a22-318f-4c70-85ed-81b3a8899e03"
      },
      "cell_type": "code",
      "source": [
        "# this is optional\n",
        "for key in person.keys():\n",
        "  print(f\"The key \\\"{key}\\\" has the value \\\"{person[key]}\\\" of the type \\\"{type(person[key])}\\\"\")\n"
      ],
      "execution_count": 16,
      "outputs": [
        {
          "output_type": "stream",
          "name": "stdout",
          "text": [
            "The key \"Name\" has the value \"Omayma\" of the type \"<class 'str'>\"\n",
            "The key \"Age\" has the value \"37\" of the type \"<class 'int'>\"\n",
            "The key \"HasAndroidPhone\" has the value \"True\" of the type \"<class 'bool'>\"\n"
          ]
        }
      ]
    },
    {
      "metadata": {
        "id": "fucfLcVhzIG2"
      },
      "cell_type": "markdown",
      "source": [
        "## Problem 2 - Working with Lists\n",
        "\n",
        "**Q: Create a list containing the following 3 elements:**\n",
        "\n",
        "* your favorite color\n",
        "* the number of pets you have\n",
        "* a boolean value describing whether you have previous programming experience\n"
      ]
    },
    {
      "metadata": {
        "trusted": true,
        "id": "CT3nXqKdzIG3"
      },
      "cell_type": "code",
      "source": [
        "my_list = ['navy blue', 0, True]"
      ],
      "execution_count": 20,
      "outputs": []
    },
    {
      "metadata": {
        "id": "_EhSdP2zzIG3"
      },
      "cell_type": "markdown",
      "source": [
        "Let's see what the list looks like:"
      ]
    },
    {
      "metadata": {
        "trusted": true,
        "id": "-5r7WddMzIG3",
        "colab": {
          "base_uri": "https://localhost:8080/"
        },
        "outputId": "18da36df-5a3c-447e-de0b-a5a0a545b2d7"
      },
      "cell_type": "code",
      "source": [
        "my_list"
      ],
      "execution_count": 21,
      "outputs": [
        {
          "output_type": "execute_result",
          "data": {
            "text/plain": [
              "['navy blue', 0, True]"
            ]
          },
          "metadata": {},
          "execution_count": 21
        }
      ]
    },
    {
      "metadata": {
        "id": "xftiO_ctzIG3"
      },
      "cell_type": "markdown",
      "source": [
        "**Q: Complete the following `print` and `if` statements by accessing the appropriate elements from `my_list`.**\n",
        "\n",
        "*Hint*: Use the list indexing notation `[]`."
      ]
    },
    {
      "metadata": {
        "trusted": true,
        "id": "BgG8HSLOzIG4"
      },
      "cell_type": "code",
      "source": [],
      "execution_count": null,
      "outputs": []
    },
    {
      "metadata": {
        "trusted": true,
        "id": "mSejRSJwzIG4"
      },
      "cell_type": "code",
      "source": [],
      "execution_count": null,
      "outputs": []
    },
    {
      "metadata": {
        "trusted": true,
        "id": "XbNZO87EzIG4"
      },
      "cell_type": "code",
      "source": [],
      "execution_count": null,
      "outputs": []
    },
    {
      "metadata": {
        "id": "U1aNEFfqzIG5"
      },
      "cell_type": "markdown",
      "source": [
        "**Q: Add your favorite single digit number to the end of the list using the appropriate list method.**"
      ]
    },
    {
      "metadata": {
        "trusted": true,
        "id": "6N-YBHZSzIG5"
      },
      "cell_type": "code",
      "source": [
        "my_list.append(7)"
      ],
      "execution_count": 22,
      "outputs": []
    },
    {
      "metadata": {
        "id": "8XqvGa_BzIG6"
      },
      "cell_type": "markdown",
      "source": [
        "Let's see if the number shows up in the list."
      ]
    },
    {
      "metadata": {
        "trusted": true,
        "id": "wzRE1vYfzIG6",
        "colab": {
          "base_uri": "https://localhost:8080/"
        },
        "outputId": "c3b94b03-7f3c-4ca9-de0a-d1a6a90fc85e"
      },
      "cell_type": "code",
      "source": [
        "my_list"
      ],
      "execution_count": 23,
      "outputs": [
        {
          "output_type": "execute_result",
          "data": {
            "text/plain": [
              "['navy blue', 0, True, 7]"
            ]
          },
          "metadata": {},
          "execution_count": 23
        }
      ]
    },
    {
      "metadata": {
        "id": "FBZkgEcNzIG6"
      },
      "cell_type": "markdown",
      "source": [
        "**Q: Remove the first element of the list, using the appropriate list method.**\n",
        "\n",
        "*Hint*: Check out methods of list here: https://www.w3schools.com/python/python_ref_list.asp"
      ]
    },
    {
      "metadata": {
        "trusted": true,
        "id": "PmD6oW4vzIG7",
        "colab": {
          "base_uri": "https://localhost:8080/",
          "height": 35
        },
        "outputId": "4216cb63-c684-4df4-c60c-dd374419c4ce"
      },
      "cell_type": "code",
      "source": [
        "my_list.pop(0)"
      ],
      "execution_count": 24,
      "outputs": [
        {
          "output_type": "execute_result",
          "data": {
            "text/plain": [
              "'navy blue'"
            ],
            "application/vnd.google.colaboratory.intrinsic+json": {
              "type": "string"
            }
          },
          "metadata": {},
          "execution_count": 24
        }
      ]
    },
    {
      "metadata": {
        "trusted": true,
        "id": "NeSHD2i2zIG7",
        "colab": {
          "base_uri": "https://localhost:8080/"
        },
        "outputId": "55cf9ca7-b6cf-4110-b137-dbc0f072d2ed"
      },
      "cell_type": "code",
      "source": [
        "my_list"
      ],
      "execution_count": 40,
      "outputs": [
        {
          "output_type": "execute_result",
          "data": {
            "text/plain": [
              "[0, True, 7]"
            ]
          },
          "metadata": {},
          "execution_count": 40
        }
      ]
    },
    {
      "metadata": {
        "id": "oOIyqmGgzIG8"
      },
      "cell_type": "markdown",
      "source": [
        "**Q: Complete the `print` statement below to display the number of elements in `my_list`.**"
      ]
    },
    {
      "metadata": {
        "trusted": true,
        "id": "vT3qR0bZzIG8",
        "colab": {
          "base_uri": "https://localhost:8080/"
        },
        "outputId": "068da2d6-b254-4368-8c1b-ec9bfb590679"
      },
      "cell_type": "code",
      "source": [
        "print(len(my_list))"
      ],
      "execution_count": 25,
      "outputs": [
        {
          "output_type": "stream",
          "name": "stdout",
          "text": [
            "3\n"
          ]
        }
      ]
    },
    {
      "metadata": {
        "id": "1IxL9N9EzIHE"
      },
      "cell_type": "markdown",
      "source": [
        "Well done, you're making good progress! Save your work before continuing"
      ]
    },
    {
      "metadata": {
        "trusted": true,
        "id": "PCbD3jTFzIHF"
      },
      "cell_type": "code",
      "source": [],
      "execution_count": null,
      "outputs": []
    },
    {
      "metadata": {
        "id": "0VviWrMGzIHF"
      },
      "cell_type": "markdown",
      "source": [
        "## Problem 3 - Conditions and loops\n",
        "\n",
        "**Q: Calculate and display the sum of all the numbers divisible by 7 between 18 and 534 i.e. `21+28+35+...+525+532`**.\n",
        "\n",
        "*Hint*: One way to do this is to loop over a `range` using `for` and use an `if` statement inside it."
      ]
    },
    {
      "metadata": {
        "trusted": true,
        "id": "yoSd-n1ZzIHG",
        "colab": {
          "base_uri": "https://localhost:8080/"
        },
        "outputId": "c048729f-a6cd-4075-94b4-ed73a8aa2f63"
      },
      "cell_type": "code",
      "source": [
        "# store the final answer in this variable\n",
        "sum_of_numbers = 0\n",
        "\n",
        "# perform the calculation here\n",
        "for i in range(18,534):\n",
        "  if i % 7 == 0:\n",
        "    sum_of_numbers += i\n",
        "    print(i, end=\" + \")\n",
        "print(\"\\b\\b\")"
      ],
      "execution_count": 32,
      "outputs": [
        {
          "output_type": "stream",
          "name": "stdout",
          "text": [
            "21 + 28 + 35 + 42 + 49 + 56 + 63 + 70 + 77 + 84 + 91 + 98 + 105 + 112 + 119 + 126 + 133 + 140 + 147 + 154 + 161 + 168 + 175 + 182 + 189 + 196 + 203 + 210 + 217 + 224 + 231 + 238 + 245 + 252 + 259 + 266 + 273 + 280 + 287 + 294 + 301 + 308 + 315 + 322 + 329 + 336 + 343 + 350 + 357 + 364 + 371 + 378 + 385 + 392 + 399 + 406 + 413 + 420 + 427 + 434 + 441 + 448 + 455 + 462 + 469 + 476 + 483 + 490 + 497 + 504 + 511 + 518 + 525 + 532 + \b\b\n"
          ]
        }
      ]
    },
    {
      "metadata": {
        "trusted": true,
        "id": "aKegz1CezIHG",
        "colab": {
          "base_uri": "https://localhost:8080/"
        },
        "outputId": "7cff7534-b060-48a4-ff41-dd2ef8152f0f"
      },
      "cell_type": "code",
      "source": [
        "print('The sum of all the numbers divisible by 7 between 18 and 534 is', sum_of_numbers)"
      ],
      "execution_count": 31,
      "outputs": [
        {
          "output_type": "stream",
          "name": "stdout",
          "text": [
            "The sum of all the numbers divisible by 7 between 18 and 534 is 20461\n"
          ]
        }
      ]
    },
    {
      "metadata": {
        "id": "R_ch7CO9zIHK"
      },
      "cell_type": "markdown",
      "source": [
        "## Problem 4 - Flying to the Bahamas\n",
        "\n",
        "**Q: A travel company wants to fly a plane to the Bahamas. Flying the plane costs 5000 dollars. So far, 29 people have signed up for the trip. If the company charges 200 dollars per ticket, what is the profit made by the company?**\n",
        "\n",
        "Fill in values or arithmetic expressions for the variables below."
      ]
    },
    {
      "metadata": {
        "trusted": true,
        "id": "qrbiUfr7zIHK"
      },
      "cell_type": "code",
      "source": [
        "cost_of_flying_plane = 5000"
      ],
      "execution_count": 33,
      "outputs": []
    },
    {
      "metadata": {
        "trusted": true,
        "id": "aCdLh-0pzIHL"
      },
      "cell_type": "code",
      "source": [
        "number_of_passengers = 29"
      ],
      "execution_count": 34,
      "outputs": []
    },
    {
      "metadata": {
        "trusted": true,
        "id": "_pZYiawizIHM"
      },
      "cell_type": "code",
      "source": [
        "price_of_ticket = 200"
      ],
      "execution_count": 35,
      "outputs": []
    },
    {
      "metadata": {
        "trusted": true,
        "id": "bq31J0NfzIHM",
        "colab": {
          "base_uri": "https://localhost:8080/"
        },
        "outputId": "506c2676-691e-44e1-f860-7e8d305f772d"
      },
      "cell_type": "code",
      "source": [
        "revenue = number_of_passengers * price_of_ticket\n",
        "print(revenue)"
      ],
      "execution_count": 36,
      "outputs": [
        {
          "output_type": "stream",
          "name": "stdout",
          "text": [
            "5800\n"
          ]
        }
      ]
    },
    {
      "metadata": {
        "trusted": true,
        "id": "pcF4HG-RzIHM",
        "colab": {
          "base_uri": "https://localhost:8080/"
        },
        "outputId": "228807fe-208d-4cbd-88b5-2f128fed3d93"
      },
      "cell_type": "code",
      "source": [
        "profit = revenue - cost_of_flying_plane\n",
        "print('The company makes of a profit of {} dollars'.format(profit))"
      ],
      "execution_count": 37,
      "outputs": [
        {
          "output_type": "stream",
          "name": "stdout",
          "text": [
            "The company makes of a profit of 800 dollars\n"
          ]
        }
      ]
    },
    {
      "metadata": {
        "id": "4GVMcd0tzIHN"
      },
      "cell_type": "markdown",
      "source": [
        "**Q : Out of the 29 people who took the flight, only 12 buy tickets to return from the Bahamas on the same plane. If the flying the plane back also costs 5000 dollars, and does the company make an overall profit or loss? The company charges the same fee of 200 dollars per ticket for the return flight.**\n",
        "\n",
        "Use an `if` statement to display the result."
      ]
    },
    {
      "metadata": {
        "trusted": true,
        "id": "eJgKVIrVzIHN",
        "colab": {
          "base_uri": "https://localhost:8080/"
        },
        "outputId": "34c07d62-3099-404e-b8c0-1473e03b203b"
      },
      "cell_type": "code",
      "source": [
        "# this is optional\n",
        "return_passengers = 12\n",
        "return_profit = (return_passengers * price_of_ticket) - cost_of_flying_plane\n",
        "print(return_profit)"
      ],
      "execution_count": 38,
      "outputs": [
        {
          "output_type": "stream",
          "name": "stdout",
          "text": [
            "-2600\n"
          ]
        }
      ]
    },
    {
      "metadata": {
        "trusted": true,
        "id": "rpOjC8WkzIHN",
        "colab": {
          "base_uri": "https://localhost:8080/"
        },
        "outputId": "f097f07c-8c1a-47e4-8794-0e1c2bc778d4"
      },
      "cell_type": "code",
      "source": [
        "# this is optional\n",
        "if return_profit > 0:\n",
        "    print(\"The company makes an overall profit of {} dollars\".format(return_profit))\n",
        "else:\n",
        "    print(\"The company makes an overall loss of {} dollars\".format(abs(return_profit)))"
      ],
      "execution_count": 39,
      "outputs": [
        {
          "output_type": "stream",
          "name": "stdout",
          "text": [
            "The company makes an overall loss of 2600 dollars\n"
          ]
        }
      ]
    },
    {
      "cell_type": "code",
      "source": [],
      "metadata": {
        "id": "1o8HflrdXn5m"
      },
      "execution_count": null,
      "outputs": []
    }
  ],
  "metadata": {
    "kernelspec": {
      "language": "python",
      "display_name": "Python 3",
      "name": "python3"
    },
    "language_info": {
      "pygments_lexer": "ipython3",
      "nbconvert_exporter": "python",
      "version": "3.6.4",
      "file_extension": ".py",
      "codemirror_mode": {
        "name": "ipython",
        "version": 3
      },
      "name": "python",
      "mimetype": "text/x-python"
    },
    "colab": {
      "provenance": []
    }
  },
  "nbformat": 4,
  "nbformat_minor": 0
}